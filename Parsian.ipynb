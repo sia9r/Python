{
  "nbformat": 4,
  "nbformat_minor": 0,
  "metadata": {
    "colab": {
      "name": "Parsian.ipynb",
      "provenance": [],
      "authorship_tag": "ABX9TyPo1bv7pU9GRt5Mxn65SvA3",
      "include_colab_link": true
    },
    "kernelspec": {
      "name": "python3",
      "display_name": "Python 3"
    },
    "language_info": {
      "name": "python"
    }
  },
  "cells": [
    {
      "cell_type": "markdown",
      "metadata": {
        "id": "view-in-github",
        "colab_type": "text"
      },
      "source": [
        "<a href=\"https://colab.research.google.com/github/sia9r/Python/blob/master/Parsian.ipynb\" target=\"_parent\"><img src=\"https://colab.research.google.com/assets/colab-badge.svg\" alt=\"Open In Colab\"/></a>"
      ]
    },
    {
      "cell_type": "code",
      "metadata": {
        "colab": {
          "base_uri": "https://localhost:8080/"
        },
        "id": "JVTCX3nEOyYv",
        "cellView": "form",
        "outputId": "442bb231-8a07-49af-c71f-5acd37e43a62"
      },
      "source": [
        "#@title\n",
        "import math\n",
        "def Gheimat_Parsian(vazn,gheimat,ojrat) :\n",
        "    \n",
        "    vazn2=0.500\n",
        "    price=(gheimat*0.1+gheimat)*vazn+ojrat\n",
        "    go=gheimat+ojrat\n",
        "    price2=go*0.1+go*vazn\n",
        "    if vazn<=vazn2 :\n",
        "        #print(\"قیمت:\",price,\"\\n\",\"قیمت رند شده: \",math.ceil(price))\n",
        "        return (price,math.ceil(price))\n",
        "    elif vazn>vazn2 :\n",
        "        return (price2,math.ceil(price2))\n",
        "        #print(\"قیمت:\",price2,\"\\n\",\"قیمت رند شده:: \",math.ceil(price2))\n",
        "\n",
        "\n",
        "\n",
        "\n",
        "\n",
        "vaznhaye_parsian=[0.05,0.1,0.15,0.2,0.25,0.3,0.35,0.4,0.45,0.5,0.55,0.6,0.65,0.7,0.75,0.8,0.85,0.9,0.95,1,1.5,2,2.5,3,3.5,4,4.5,5]\n",
        "gheimat=float(input('gheimat?:'))\n",
        "ojrat = float(input('ojrat?:'))\n",
        "print(\"لیست قیمت های پارسیان و به صورت رند شده:\",\"عبداللهی\")\n",
        "for i in vaznhaye_parsian:\n",
        "    print(\"\\n\",i,\"=\",Gheimat_Parsian(i,gheimat,ojrat))"
      ],
      "execution_count": 2,
      "outputs": [
        {
          "output_type": "stream",
          "name": "stdout",
          "text": [
            "gheimat?:1152\n",
            "ojrat?:15\n",
            "لیست قیمت های پارسیان و به صورت رند شده: عبداللهی\n",
            "\n",
            " 0.05 = (78.36000000000001, 79)\n",
            "\n",
            " 0.1 = (141.72000000000003, 142)\n",
            "\n",
            " 0.15 = (205.08, 206)\n",
            "\n",
            " 0.2 = (268.44000000000005, 269)\n",
            "\n",
            " 0.25 = (331.8, 332)\n",
            "\n",
            " 0.3 = (395.16, 396)\n",
            "\n",
            " 0.35 = (458.52, 459)\n",
            "\n",
            " 0.4 = (521.8800000000001, 522)\n",
            "\n",
            " 0.45 = (585.24, 586)\n",
            "\n",
            " 0.5 = (648.6, 649)\n",
            "\n",
            " 0.55 = (758.5500000000001, 759)\n",
            "\n",
            " 0.6 = (816.9, 817)\n",
            "\n",
            " 0.65 = (875.2500000000001, 876)\n",
            "\n",
            " 0.7 = (933.6, 934)\n",
            "\n",
            " 0.75 = (991.95, 992)\n",
            "\n",
            " 0.8 = (1050.3, 1051)\n",
            "\n",
            " 0.85 = (1108.6499999999999, 1109)\n",
            "\n",
            " 0.9 = (1167.0, 1167)\n",
            "\n",
            " 0.95 = (1225.35, 1226)\n",
            "\n",
            " 1 = (1283.7, 1284)\n",
            "\n",
            " 1.5 = (1867.2, 1868)\n",
            "\n",
            " 2 = (2450.7, 2451)\n",
            "\n",
            " 2.5 = (3034.2, 3035)\n",
            "\n",
            " 3 = (3617.7, 3618)\n",
            "\n",
            " 3.5 = (4201.2, 4202)\n",
            "\n",
            " 4 = (4784.7, 4785)\n",
            "\n",
            " 4.5 = (5368.2, 5369)\n",
            "\n",
            " 5 = (5951.7, 5952)\n"
          ]
        }
      ]
    },
    {
      "cell_type": "code",
      "metadata": {
        "colab": {
          "base_uri": "https://localhost:8080/",
          "height": 137
        },
        "id": "CamzD8HKC4Uj",
        "outputId": "6ffce766-aab3-4825-ed2d-e6a151164f78"
      },
      "source": [
        "from kivy.app import App\n",
        "from kivy.uix.button import Button\n",
        "\n",
        "class lla(App)\n",
        "    def build(self):\n",
        "        return Button(text='hello')\n",
        "if __name__ == '__main__':\n",
        "    lla().run()"
      ],
      "execution_count": null,
      "outputs": [
        {
          "output_type": "error",
          "ename": "SyntaxError",
          "evalue": "ignored",
          "traceback": [
            "\u001b[0;36m  File \u001b[0;32m\"<ipython-input-50-b011997e654c>\"\u001b[0;36m, line \u001b[0;32m4\u001b[0m\n\u001b[0;31m    class lla(App)\u001b[0m\n\u001b[0m                  ^\u001b[0m\n\u001b[0;31mSyntaxError\u001b[0m\u001b[0;31m:\u001b[0m invalid syntax\n"
          ]
        }
      ]
    },
    {
      "cell_type": "code",
      "metadata": {
        "id": "LlhsRtD7UKsV"
      },
      "source": [
        "import math\n",
        "gheimat=float(input('gheimat?:'))\n",
        "vazn = float(input('vazn?:'))\n",
        "ojrat = float(input('ojrat?:'))\n",
        "vazn2=0.500\n",
        "price=(gheimat*0.1+gheimat)*vazn+ojrat\n",
        "go=gheimat+ojrat\n",
        "price2=go*0.1+go*vazn\n",
        "if vazn<vazn2 :\n",
        "   print(\"قیمت:\",price,\"\\n\",\"قیمت رند شده:: \",math.ceil(price))\n",
        "elif vazn>vazn2 :\n",
        "   print(\"قیمت:\",price2,\"\\n\",\"قیمت رند شده:: \",math.ceil(price2))\n",
        "   "
      ],
      "execution_count": null,
      "outputs": []
    }
  ]
}