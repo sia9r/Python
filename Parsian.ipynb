{
  "nbformat": 4,
  "nbformat_minor": 0,
  "metadata": {
    "colab": {
      "name": "Parsian.ipynb",
      "provenance": [],
      "authorship_tag": "ABX9TyPo1bv7pU9GRt5Mxn65SvA3",
      "include_colab_link": true
    },
    "kernelspec": {
      "name": "python3",
      "display_name": "Python 3"
    },
    "language_info": {
      "name": "python"
    }
  },
  "cells": [
    {
      "cell_type": "markdown",
      "metadata": {
        "id": "view-in-github",
        "colab_type": "text"
      },
      "source": [
        "<a href=\"https://colab.research.google.com/github/sia9r/Python/blob/master/Parsian.ipynb\" target=\"_parent\"><img src=\"https://colab.research.google.com/assets/colab-badge.svg\" alt=\"Open In Colab\"/></a>"
      ]
    },
    {
      "cell_type": "code",
      "metadata": {
        "colab": {
          "base_uri": "https://localhost:8080/"
        },
        "id": "JVTCX3nEOyYv",
        "cellView": "form",
        "outputId": "442bb231-8a07-49af-c71f-5acd37e43a62"
      },
      "source": [
        "#@title\n",
        "import math\n",
        "def Gheimat_Parsian(vazn,gheimat,ojrat) :\n",
        "    \n",
        "    vazn2=0.500\n",
        "    price=(gheimat*0.1+gheimat)*vazn+ojrat\n",
        "    go=gheimat+ojrat\n",
        "    price2=go*0.1+go*vazn\n",
        "    if vazn<=vazn2 :\n",
        "        #print(\"قیمت:\",price,\"\\n\",\"قیمت رند شده: \",math.ceil(price))\n",
        "        return (price,math.ceil(price))\n",
        "    elif vazn>vazn2 :\n",
        "        return (price2,math.ceil(price2))\n",
        "        #print(\"قیمت:\",price2,\"\\n\",\"قیمت رند شده:: \",math.ceil(price2))\n",
        "\n",
        "\n",
        "\n",
        "\n",
        "\n",
        "vaznhaye_parsian=[0.05,0.1,0.15,0.2,0.25,0.3,0.35,0.4,0.45,0.5,0.55,0.6,0.65,0.7,0.75,0.8,0.85,0.9,0.95,1,1.5,2,2.5,3,3.5,4,4.5,5]\n",
        "gheimat=float(input('gheimat?:'))\n",
        "ojrat = float(input('ojrat?:'))\n",
        "print(\"لیست قیمت های پارسیان و به صورت رند شده:\",\"عبداللهی\")\n",
        "for i in vaznhaye_parsian:\n",
        "    print(\"\\n\",i,\"=\",Gheimat_Parsian(i,gheimat,ojrat))"
      ],
      
      "execution_count": null,
      "outputs": []
    }
  ]
}
